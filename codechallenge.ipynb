{
 "cells": [
  {
   "cell_type": "code",
   "execution_count": 10,
   "metadata": {},
   "outputs": [
    {
     "name": "stdout",
     "output_type": "stream",
     "text": [
      "30000\n",
      "10000\n",
      "20000\n"
     ]
    }
   ],
   "source": [
    "\"\"\"Salary Inequity [Microsoft Python Interview Question]\n",
    "\n",
    "Given a list of salaries, we'll define a metric called inequity which is the difference between max and min salary seen in the list:\n",
    "\n",
    "inequity = max(input_list) - min(input_list)\n",
    "\n",
    "Write a function called min_inequity which takes in a list of salaries, and a value n, and returns the minimum inequity possible when taking n salaries from the full salary list.\n",
    "\n",
    "Examples:\n",
    "\n",
    "min_inequity([50000, 100000, 150000, 170000, 30000, 40000, 20000, 90000], 4) = 20000\n",
    "\n",
    "min_inequity([60000, 80000, 120000, 70000], 2) = 10000\n",
    "\n",
    "\"\"\"\n",
    "\n",
    "\n",
    "# Function Definition\n",
    "def min_inequity(salaries, n):\n",
    "    if n > len(salaries):\n",
    "        raise ValueError(\"n cannot be greater than the length of salaries list\")\n",
    "\n",
    "    salaries.sort() # sort \n",
    "    min_inequity_value = float('inf') # set to infinity\n",
    "\n",
    "    # iterate through the list\n",
    "    for i in range(len(salaries) - n + 1):\n",
    "      \n",
    "        current_inequity = salaries[i + n - 1] - salaries[i] # calculate inequity\n",
    "        min_inequity_value = min(min_inequity_value, current_inequity) # update min inequity value\n",
    "\n",
    "    return min_inequity_value # return min inequity value\n",
    "\n",
    "\n",
    "\n",
    "salaries = [50000, 100000, 150000, 170000, 30000, 40000, 20000, 90000]\n",
    "n = 4\n",
    "print(min_inequity(salaries, n))\n",
    "\n",
    "\n",
    "salaries = [60000, 80000, 120000, 70000]\n",
    "n = 2\n",
    "print(min_inequity(salaries, n))\n",
    "\n",
    "\n",
    "salaries = [60000, 80000, 120000, 70000]\n",
    "n = 3\n",
    "print(min_inequity(salaries, n))"
   ]
  }
 ],
 "metadata": {
  "kernelspec": {
   "display_name": "Python 3",
   "language": "python",
   "name": "python3"
  },
  "language_info": {
   "codemirror_mode": {
    "name": "ipython",
    "version": 3
   },
   "file_extension": ".py",
   "mimetype": "text/x-python",
   "name": "python",
   "nbconvert_exporter": "python",
   "pygments_lexer": "ipython3",
   "version": "3.9.6"
  }
 },
 "nbformat": 4,
 "nbformat_minor": 2
}
